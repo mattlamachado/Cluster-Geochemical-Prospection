{
 "cells": [
  {
   "cell_type": "code",
   "execution_count": 1,
   "metadata": {},
   "outputs": [],
   "source": [
    "import pandas as pd\n",
    "import numpy as np\n",
    "import seaborn as sns\n",
    "import matplotlib.pyplot as plt\n",
    "import probscale"
   ]
  },
  {
   "cell_type": "code",
   "execution_count": 4,
   "metadata": {},
   "outputs": [],
   "source": [
    "dados = pd.read_excel('D:/Amo/Cluster-Geochemical-Prospection/AsBi/Para de Minas2.xls')\n",
    "dados_bi = dados['Bi (PPM)']\n",
    "dados_as = dados['As (PPM)']"
   ]
  },
  {
   "cell_type": "code",
   "execution_count": 20,
   "metadata": {},
   "outputs": [],
   "source": [
    "def vis_logprob(dados):\n",
    "    x = np.sort(dados)\n",
    "    y = np.arange(1, len(x)+1)/len(x)\n",
    "    \n",
    "    fig, ax = plt.subplots(figsize=(9, 5))\n",
    "    ax.set_xscale('prob')\n",
    "    \n",
    "    plt.grid(True, which=\"both\")\n",
    "    \n",
    "    plt.axhline(np.median(dados), linestyle='--', label='Mediana', color='green', linewidth=0.5)\n",
    "    plt.axhline(np.mean(dados), linestyle='--', label='Média', color='red', linewidth=0.5)\n",
    "    plt.semilogy(y[::-1], x, 'o', markersize=1.5)\n",
    "    plt.axvline(0.047, linestyle='--', color='orange', label='Limiar de Anomalia', linewidth=0.5)\n",
    "    #plt.plot(0.073, 25.19, 'x', color='blue', label='Ponto de Inflexão')\n",
    "    #plt.plot(0.32, 5.13, 'x', color='blue')\n",
    "    plt.title(str(dados.name) +' Log x Probabilidade Acumulada')\n",
    "    plt.xlabel('Probabilidade (%)')\n",
    "    plt.ylabel(str(dados.name))\n",
    "    plt.legend()\n",
    "    \n",
    "    plt.show()\n",
    "    \n",
    "    return x, y"
   ]
  },
  {
   "cell_type": "code",
   "execution_count": 21,
   "metadata": {},
   "outputs": [
    {
     "name": "stderr",
     "output_type": "stream",
     "text": [
      "C:\\Users\\clara\\OneDrive\\Documentos\\Pastadoamo\\lib\\site-packages\\probscale\\probscale.py:44: RuntimeWarning: invalid value encountered in sign\n",
      "  return numpy.sign(z) * numpy.sqrt(numpy.sqrt(_b**2 - _c) - _b)\n",
      "C:\\Users\\clara\\OneDrive\\Documentos\\Pastadoamo\\lib\\site-packages\\probscale\\probscale.py:32: RuntimeWarning: invalid value encountered in sign\n",
      "  return numpy.sign(x) * numpy.sqrt(1.0 - numpy.exp(guts))\n",
      "C:\\Users\\clara\\OneDrive\\Documentos\\Pastadoamo\\lib\\site-packages\\probscale\\probscale.py:44: RuntimeWarning: invalid value encountered in sign\n",
      "  return numpy.sign(z) * numpy.sqrt(numpy.sqrt(_b**2 - _c) - _b)\n"
     ]
    },
    {
     "data": {
      "image/png": "[encoded data removed]",
      "text/plain": [
       "<Figure size 648x360 with 1 Axes>"
      ]
     },
     "metadata": {
      "needs_background": "light"
     },
     "output_type": "display_data"
    }
   ],
   "source": [
    "x, y = vis_logprob(dados_bi)"
   ]
  },
  {
   "cell_type": "code",
   "execution_count": 7,
   "metadata": {},
   "outputs": [
    {
     "ename": "NameError",
     "evalue": "name 'pyplot' is not defined",
     "output_type": "error",
     "traceback": [
      "\u001b[1;31m---------------------------------------------------------------------------\u001b[0m",
      "\u001b[1;31mNameError\u001b[0m                                 Traceback (most recent call last)",
      "\u001b[1;32m<ipython-input-7-98a34fde33f2>\u001b[0m in \u001b[0;36m<module>\u001b[1;34m\u001b[0m\n\u001b[0;32m      1\u001b[0m \u001b[1;32mimport\u001b[0m \u001b[0mprobscale\u001b[0m\u001b[1;33m\u001b[0m\u001b[1;33m\u001b[0m\u001b[0m\n\u001b[1;32m----> 2\u001b[1;33m \u001b[0mfig\u001b[0m\u001b[1;33m,\u001b[0m \u001b[0max\u001b[0m \u001b[1;33m=\u001b[0m \u001b[0mpyplot\u001b[0m\u001b[1;33m.\u001b[0m\u001b[0msubplots\u001b[0m\u001b[1;33m(\u001b[0m\u001b[0mfigsize\u001b[0m\u001b[1;33m=\u001b[0m\u001b[1;33m(\u001b[0m\u001b[1;36m8\u001b[0m\u001b[1;33m,\u001b[0m \u001b[1;36m3\u001b[0m\u001b[1;33m)\u001b[0m\u001b[1;33m)\u001b[0m\u001b[1;33m\u001b[0m\u001b[1;33m\u001b[0m\u001b[0m\n\u001b[0m\u001b[0;32m      3\u001b[0m \u001b[0max\u001b[0m\u001b[1;33m.\u001b[0m\u001b[0mset_xscale\u001b[0m\u001b[1;33m(\u001b[0m\u001b[1;34m'prob'\u001b[0m\u001b[1;33m)\u001b[0m\u001b[1;33m\u001b[0m\u001b[1;33m\u001b[0m\u001b[0m\n\u001b[0;32m      4\u001b[0m \u001b[0max\u001b[0m\u001b[1;33m.\u001b[0m\u001b[0mset_xlim\u001b[0m\u001b[1;33m(\u001b[0m\u001b[0mleft\u001b[0m\u001b[1;33m=\u001b[0m\u001b[1;36m0.5\u001b[0m\u001b[1;33m,\u001b[0m \u001b[0mright\u001b[0m\u001b[1;33m=\u001b[0m\u001b[1;36m99.5\u001b[0m\u001b[1;33m)\u001b[0m\u001b[1;33m\u001b[0m\u001b[1;33m\u001b[0m\u001b[0m\n\u001b[0;32m      5\u001b[0m \u001b[0max\u001b[0m\u001b[1;33m.\u001b[0m\u001b[0mset_xlabel\u001b[0m\u001b[1;33m(\u001b[0m\u001b[1;34m'Normal probability scale (%)'\u001b[0m\u001b[1;33m)\u001b[0m\u001b[1;33m\u001b[0m\u001b[1;33m\u001b[0m\u001b[0m\n",
      "\u001b[1;31mNameError\u001b[0m: name 'pyplot' is not defined"
     ]
    }
   ],
   "source": [
    "import probscale\n",
    "fig, ax = pyplot.subplots(figsize=(8, 3))\n",
    "ax.set_xscale('prob')\n",
    "ax.set_xlim(left=0.5, right=99.5)\n",
    "ax.set_xlabel('Normal probability scale (%)')\n",
    "seaborn.despine(fig=fig)"
   ]
  },
  {
   "cell_type": "code",
   "execution_count": 12,
   "metadata": {},
   "outputs": [
    {
     "ename": "AttributeError",
     "evalue": "module 'matplotlib.pyplot' has no attribute 'set_xscale'",
     "output_type": "error",
     "traceback": [
      "\u001b[1;31m---------------------------------------------------------------------------\u001b[0m",
      "\u001b[1;31mAttributeError\u001b[0m                            Traceback (most recent call last)",
      "\u001b[1;32m<ipython-input-12-6834e55bd331>\u001b[0m in \u001b[0;36m<module>\u001b[1;34m\u001b[0m\n\u001b[1;32m----> 1\u001b[1;33m \u001b[0mplt\u001b[0m\u001b[1;33m.\u001b[0m\u001b[0mset_xscale\u001b[0m\u001b[1;33m(\u001b[0m\u001b[1;34m'prob'\u001b[0m\u001b[1;33m)\u001b[0m\u001b[1;33m\u001b[0m\u001b[1;33m\u001b[0m\u001b[0m\n\u001b[0m",
      "\u001b[1;31mAttributeError\u001b[0m: module 'matplotlib.pyplot' has no attribute 'set_xscale'"
     ]
    }
   ],
   "source": [
    "plt.set_xscale('prob')"
   ]
  },
  {
   "cell_type": "code",
   "execution_count": null,
   "metadata": {},
   "outputs": [],
   "source": []
  }
 ],
 "metadata": {
  "kernelspec": {
   "display_name": "Python 3",
   "language": "python",
   "name": "python3"
  },
  "language_info": {
   "codemirror_mode": {
    "name": "ipython",
    "version": 3
   },
   "file_extension": ".py",
   "mimetype": "text/x-python",
   "name": "python",
   "nbconvert_exporter": "python",
   "pygments_lexer": "ipython3",
   "version": "3.7.4"
  }
 },
 "nbformat": 4,
 "nbformat_minor": 2
}
